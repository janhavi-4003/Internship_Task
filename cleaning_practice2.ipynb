{
 "cells": [
  {
   "cell_type": "code",
   "execution_count": 2,
   "id": "deca4386-1e7f-4b89-b52e-5e5eb1edd0ab",
   "metadata": {},
   "outputs": [],
   "source": [
    "#import libraries\n",
    "import numpy as np\n",
    "import pandas as pd\n",
    "import matplotlib.pyplot as plt\n",
    "import seaborn as sns"
   ]
  },
  {
   "cell_type": "code",
   "execution_count": 3,
   "id": "5f5e3c5f-45d4-4c50-94c9-ba852b45196b",
   "metadata": {},
   "outputs": [
    {
     "name": "stdout",
     "output_type": "stream",
     "text": [
      "     CustomerID     Product                Price Quantity       City PurchaseDate\n",
      "0          1052     Desktop                  NaN      4.0  Bangalore   2021-06-30\n",
      "1          1041     Desktop                  NaN      3.0      Delhi   2023-01-21\n",
      "2          1057  Smartphone  forty-five thousand      2.0  Bangalore   2023-04-06\n",
      "3          1038      Tablet              45000.0      1.0    Chennai   2023-07-05\n",
      "4          1013  Smartphone              45000.0      NaN     Mumbai   2022-04-11\n",
      "5          1094      Laptop              60000.0      two     Mumbai   2022-03-12\n",
      "6          1004      Laptop              30000.0      2.0    Chennai   2022-02-25\n",
      "7          1034      Laptop              30000.0      2.0    Chennai   2022-12-22\n",
      "8          1086      Laptop              30000.0      3.0      Delhi   2022-10-23\n",
      "9          1092     Desktop              30000.0      3.0     Mumbai   2022-03-12\n",
      "10         1074      Laptop              45000.0      NaN  Bangalore   2021-08-14\n",
      "11         1017     Desktop              45000.0      NaN       Pune   2022-08-09\n",
      "12         1075     Desktop              30000.0      1.0       Pune   2021-09-28\n",
      "13         1008      Laptop              60000.0      1.0    Chennai   2021-09-13\n",
      "14         1073      Laptop              15000.0      NaN      Delhi   2021-01-01\n",
      "15         1057      Tablet              15000.0      NaN       Pune   2022-11-22\n",
      "16         1016  Smartphone              60000.0      4.0     Mumbai   2023-09-03\n",
      "17         1006      Laptop              30000.0      3.0    Chennai   2022-07-10\n",
      "18         1045      Tablet              45000.0      1.0  Bangalore   2023-01-21\n",
      "19         1012      Tablet              15000.0      3.0    Chennai   2023-07-20\n",
      "20         1039  Smartphone                  NaN      3.0  Bangalore   2021-02-15\n",
      "21         1041     Desktop                  NaN      NaN    Chennai   2021-01-01\n",
      "22         1008      Laptop              60000.0      4.0    Chennai   2021-04-16\n",
      "23         1049  Smartphone              30000.0      2.0    Chennai   2022-02-25\n",
      "24         1026      Laptop              15000.0      4.0  Bangalore   2023-03-22\n",
      "25         1065      Tablet              30000.0      4.0  Bangalore   2021-01-31\n",
      "26         1004      Tablet              15000.0      3.0    Chennai   2022-04-11\n",
      "27         1028     Desktop              60000.0      4.0       Pune   2021-05-16\n",
      "28         1036      Tablet              60000.0      1.0      Delhi   2022-05-11\n",
      "29         1037      Tablet                  NaN      3.0      Delhi   2023-03-22\n",
      "30         1082  Smartphone              30000.0      1.0      Delhi   2022-04-11\n",
      "31         1007      Laptop                  NaN      2.0  Bangalore   2023-01-06\n",
      "32         1064      Laptop              30000.0      3.0  Bangalore   2021-04-01\n",
      "33         1085  Smartphone                  NaN      2.0       Pune   2021-04-16\n",
      "34         1016     Desktop              45000.0      3.0      Delhi   2023-08-19\n",
      "35         1070      Laptop              45000.0      NaN      Delhi   2023-04-21\n",
      "36         1088      Tablet              45000.0      4.0    Chennai   2023-09-18\n",
      "37         1044      Laptop              45000.0      NaN  Bangalore   2023-05-21\n",
      "38         1003      Tablet              15000.0      2.0      Delhi   2023-12-02\n",
      "39         1035     Desktop              45000.0      4.0       Pune   2023-03-07\n",
      "40         1069  Smartphone              60000.0      3.0       Pune   2023-09-18\n",
      "41         1030      Laptop              60000.0      4.0      Delhi   2023-01-21\n",
      "42         1018  Smartphone              15000.0      1.0  Bangalore   2021-04-16\n",
      "43         1060      Laptop              45000.0      4.0       Pune   2022-05-11\n",
      "44         1053      Tablet              45000.0      1.0    Chennai   2022-05-26\n",
      "45         1038  Smartphone              45000.0      4.0       Pune   2022-04-11\n",
      "46         1090      Laptop                  NaN      1.0     Mumbai   2022-11-07\n",
      "47         1073      Tablet              30000.0      2.0     Mumbai   2021-08-14\n",
      "48         1089  Smartphone                  NaN      NaN  Bangalore   2023-10-03\n",
      "49         1018  Smartphone              30000.0      3.0      Delhi   2022-06-25\n",
      "50         1038      Laptop              45000.0      4.0  Bangalore   2023-03-07\n",
      "51         1066      Laptop              45000.0      NaN  Bangalore   2021-07-15\n",
      "52         1044      Laptop                  NaN      3.0  Bangalore   2023-03-22\n",
      "53         1012      Tablet                  NaN      3.0  Bangalore   2022-12-07\n",
      "54         1091      Laptop              30000.0      1.0    Chennai   2021-04-01\n",
      "55         1057  Smartphone              60000.0      2.0    Chennai   2021-04-01\n",
      "56         1019  Smartphone              30000.0      2.0       Pune   2022-04-26\n",
      "57         1091      Laptop                  NaN      NaN     Mumbai   2021-11-27\n",
      "58         1071      Laptop                  NaN      2.0  Bangalore   2021-09-28\n",
      "59         1060     Desktop              15000.0      4.0       Pune   2021-09-28\n",
      "60         1038  Smartphone                  NaN      2.0     Mumbai   2022-06-10\n",
      "61         1000      Tablet              15000.0      NaN      Delhi   2022-02-25\n",
      "62         1002     Desktop              60000.0      2.0    Chennai   2023-06-05\n",
      "63         1076      Laptop              30000.0      4.0     Mumbai   2021-01-16\n",
      "64         1091      Laptop              30000.0      1.0      Delhi   2021-01-01\n",
      "65         1061  Smartphone              15000.0      NaN     Mumbai   2022-11-22\n",
      "66         1062      Laptop              30000.0      1.0    Chennai   2023-10-18\n",
      "67         1024      Tablet                  NaN      1.0    Chennai   2021-10-13\n",
      "68         1055  Smartphone              45000.0      1.0       Pune   2021-05-31\n",
      "69         1032      Laptop              15000.0      3.0  Bangalore   2021-01-16\n",
      "70         1037  Smartphone              30000.0      3.0     Mumbai   2023-09-18\n",
      "71         1005      Laptop              15000.0      1.0     Mumbai   2021-06-15\n",
      "72         1057      Laptop              15000.0      NaN      Delhi   2021-10-13\n",
      "73         1043      Laptop              45000.0      4.0    Chennai   2021-03-02\n",
      "74         1044      Tablet                  NaN      4.0     Mumbai   2022-06-25\n",
      "75         1031      Tablet              15000.0      2.0    Chennai   2022-07-10\n",
      "76         1044  Smartphone              30000.0      NaN     Mumbai   2021-05-01\n",
      "77         1060      Laptop              60000.0      3.0       Pune   2023-02-20\n",
      "78         1046      Laptop              15000.0      1.0  Bangalore   2022-10-08\n",
      "79         1020      Tablet              15000.0      2.0     Mumbai   2021-12-12\n",
      "80         1079      Laptop              45000.0      4.0    Chennai   2022-03-12\n",
      "81         1084      Tablet                  NaN      3.0       Pune   2023-05-21\n",
      "82         1074      Laptop              60000.0      3.0     Mumbai   2021-07-15\n",
      "83         1035  Smartphone              30000.0      1.0      Delhi   2021-05-01\n",
      "84         1098      Laptop              60000.0      4.0  Bangalore   2022-08-09\n",
      "85         1018      Laptop              30000.0      NaN     Mumbai   2023-09-03\n",
      "86         1019     Desktop                  NaN      3.0       Pune   2021-12-27\n",
      "87         1056      Tablet              30000.0      1.0      Delhi   2023-12-17\n",
      "88         1017      Laptop              45000.0      NaN       Pune   2021-11-12\n",
      "89         1046      Laptop              45000.0      4.0       Pune   2021-02-15\n",
      "90         1048     Desktop              45000.0      3.0      Delhi   2022-01-11\n",
      "91         1013     Desktop              45000.0      NaN       Pune   2023-05-06\n",
      "92         1014      Tablet              60000.0      NaN      Delhi   2022-02-25\n",
      "93         1030     Desktop                  NaN      NaN     Mumbai   2022-06-25\n",
      "94         1000  Smartphone              30000.0      3.0      Delhi   2023-11-02\n",
      "95         1053     Desktop              30000.0      3.0      Delhi   2021-09-13\n",
      "96         1002  Smartphone              45000.0      2.0  Bangalore   2022-09-08\n",
      "97         1015      Tablet              45000.0      4.0      Delhi   2022-08-24\n",
      "98         1086      Tablet              15000.0      1.0      Delhi   2022-07-10\n",
      "99         1056      Tablet                  NaN      NaN     Mumbai   2022-05-11\n",
      "100        1074      Tablet              60000.0      2.0  Bangalore   2021-08-29\n",
      "101        1011      Tablet              30000.0      1.0    Chennai   2022-06-25\n",
      "102        1073  Smartphone              15000.0      2.0     Mumbai   2021-12-27\n",
      "103        1095  Smartphone              15000.0      3.0     Mumbai   2022-01-26\n",
      "104        1015      Tablet              30000.0      NaN    Chennai   2023-04-21\n",
      "105        1071     Desktop              60000.0      1.0      Delhi   2022-03-27\n",
      "106        1075      Laptop              15000.0      1.0       Pune   2021-03-17\n",
      "107        1023      Tablet              15000.0      1.0  Bangalore   2022-08-09\n",
      "108        1027     Desktop                  NaN      1.0       Pune   2021-06-15\n",
      "109        1007      Laptop              60000.0      1.0    Chennai   2023-02-20\n",
      "110        1091      Tablet              15000.0      2.0     Mumbai   2023-11-17\n",
      "111        1035      Tablet              60000.0      NaN     Mumbai   2021-05-16\n",
      "112        1089  Smartphone              30000.0      3.0  Bangalore   2022-10-23\n",
      "113        1007      Laptop              45000.0      3.0     Mumbai   2021-08-29\n",
      "114        1057      Laptop              15000.0      3.0     Mumbai   2022-01-11\n",
      "115        1059     Desktop                  NaN      3.0  Bangalore   2023-07-05\n",
      "116        1049  Smartphone              30000.0      2.0  Bangalore   2022-11-07\n",
      "117        1027  Smartphone              60000.0      4.0    Chennai   2023-08-04\n",
      "118        1091  Smartphone              30000.0      NaN     Mumbai   2021-01-16\n",
      "119        1040  Smartphone              15000.0      1.0     Mumbai   2023-03-07\n",
      "120        1074      Laptop              45000.0      NaN  Bangalore   2021-08-14\n",
      "121        1017     Desktop              45000.0      NaN       Pune   2022-08-09\n",
      "122        1075     Desktop              30000.0      1.0       Pune   2021-09-28\n",
      "123        1008      Laptop              60000.0      1.0    Chennai   2021-09-13\n",
      "124        1073      Laptop              15000.0      NaN      Delhi   2021-01-01\n"
     ]
    }
   ],
   "source": [
    "#import dataset\n",
    "ds=pd.read_csv(\"product_data.csv\")\n",
    "print(ds.to_string())\n"
   ]
  },
  {
   "cell_type": "code",
   "execution_count": 4,
   "id": "72411399-b010-4998-bc62-d39f93f6e3c7",
   "metadata": {},
   "outputs": [
    {
     "name": "stdout",
     "output_type": "stream",
     "text": [
      "<class 'pandas.core.frame.DataFrame'>\n",
      "RangeIndex: 125 entries, 0 to 124\n",
      "Data columns (total 6 columns):\n",
      " #   Column        Non-Null Count  Dtype \n",
      "---  ------        --------------  ----- \n",
      " 0   CustomerID    125 non-null    int64 \n",
      " 1   Product       125 non-null    object\n",
      " 2   Price         103 non-null    object\n",
      " 3   Quantity      98 non-null     object\n",
      " 4   City          125 non-null    object\n",
      " 5   PurchaseDate  125 non-null    object\n",
      "dtypes: int64(1), object(5)\n",
      "memory usage: 6.0+ KB\n"
     ]
    }
   ],
   "source": [
    "ds.info()"
   ]
  },
  {
   "cell_type": "code",
   "execution_count": 5,
   "id": "128fc64b-0601-4d45-90ea-7e8325c32793",
   "metadata": {},
   "outputs": [
    {
     "data": {
      "text/plain": [
       "53"
      ]
     },
     "execution_count": 5,
     "metadata": {},
     "output_type": "execute_result"
    }
   ],
   "source": [
    "# customer id column\n",
    "ds['CustomerID'].duplicated().sum()"
   ]
  },
  {
   "cell_type": "code",
   "execution_count": 6,
   "id": "22503913-ce70-4048-be8c-11529a05c8d6",
   "metadata": {},
   "outputs": [],
   "source": [
    "#remove duplicates\n",
    "ds.drop_duplicates(subset='CustomerID',inplace=True)"
   ]
  },
  {
   "cell_type": "code",
   "execution_count": 7,
   "id": "45ec2086-fb1f-4f22-a232-f50260814c8f",
   "metadata": {},
   "outputs": [
    {
     "data": {
      "text/plain": [
       "0"
      ]
     },
     "execution_count": 7,
     "metadata": {},
     "output_type": "execute_result"
    }
   ],
   "source": [
    "\n",
    "# to check removed all duplicate data from 'CustomerID' column\n",
    "ds['CustomerID'].duplicated().sum()"
   ]
  },
  {
   "cell_type": "code",
   "execution_count": 8,
   "id": "61cbdf00-290c-43a6-bd0f-185bf24414f4",
   "metadata": {},
   "outputs": [],
   "source": [
    "# Product  column\n",
    "#remove leading /trailing spaces\n",
    "ds['Product']=ds['Product'].str.strip()\n"
   ]
  },
  {
   "cell_type": "code",
   "execution_count": 9,
   "id": "985c6dae-6af8-4b2c-a093-cbb576e41637",
   "metadata": {},
   "outputs": [
    {
     "name": "stdout",
     "output_type": "stream",
     "text": [
      "     CustomerID     Product                Price Quantity       City PurchaseDate\n",
      "0          1052     Desktop                  NaN      4.0  Bangalore   2021-06-30\n",
      "1          1041     Desktop                  NaN      3.0      Delhi   2023-01-21\n",
      "2          1057  Smartphone  forty-five thousand      2.0  Bangalore   2023-04-06\n",
      "3          1038      Tablet              45000.0      1.0    Chennai   2023-07-05\n",
      "4          1013  Smartphone              45000.0      NaN     Mumbai   2022-04-11\n",
      "5          1094      Laptop              60000.0      two     Mumbai   2022-03-12\n",
      "6          1004      Laptop              30000.0      2.0    Chennai   2022-02-25\n",
      "7          1034      Laptop              30000.0      2.0    Chennai   2022-12-22\n",
      "8          1086      Laptop              30000.0      3.0      Delhi   2022-10-23\n",
      "9          1092     Desktop              30000.0      3.0     Mumbai   2022-03-12\n",
      "10         1074      Laptop              45000.0      NaN  Bangalore   2021-08-14\n",
      "11         1017     Desktop              45000.0      NaN       Pune   2022-08-09\n",
      "12         1075     Desktop              30000.0      1.0       Pune   2021-09-28\n",
      "13         1008      Laptop              60000.0      1.0    Chennai   2021-09-13\n",
      "14         1073      Laptop              15000.0      NaN      Delhi   2021-01-01\n",
      "16         1016  Smartphone              60000.0      4.0     Mumbai   2023-09-03\n",
      "17         1006      Laptop              30000.0      3.0    Chennai   2022-07-10\n",
      "18         1045      Tablet              45000.0      1.0  Bangalore   2023-01-21\n",
      "19         1012      Tablet              15000.0      3.0    Chennai   2023-07-20\n",
      "20         1039  Smartphone                  NaN      3.0  Bangalore   2021-02-15\n",
      "23         1049  Smartphone              30000.0      2.0    Chennai   2022-02-25\n",
      "24         1026      Laptop              15000.0      4.0  Bangalore   2023-03-22\n",
      "25         1065      Tablet              30000.0      4.0  Bangalore   2021-01-31\n",
      "27         1028     Desktop              60000.0      4.0       Pune   2021-05-16\n",
      "28         1036      Tablet              60000.0      1.0      Delhi   2022-05-11\n",
      "29         1037      Tablet                  NaN      3.0      Delhi   2023-03-22\n",
      "30         1082  Smartphone              30000.0      1.0      Delhi   2022-04-11\n",
      "31         1007      Laptop                  NaN      2.0  Bangalore   2023-01-06\n",
      "32         1064      Laptop              30000.0      3.0  Bangalore   2021-04-01\n",
      "33         1085  Smartphone                  NaN      2.0       Pune   2021-04-16\n",
      "35         1070      Laptop              45000.0      NaN      Delhi   2023-04-21\n",
      "36         1088      Tablet              45000.0      4.0    Chennai   2023-09-18\n",
      "37         1044      Laptop              45000.0      NaN  Bangalore   2023-05-21\n",
      "38         1003      Tablet              15000.0      2.0      Delhi   2023-12-02\n",
      "39         1035     Desktop              45000.0      4.0       Pune   2023-03-07\n",
      "40         1069  Smartphone              60000.0      3.0       Pune   2023-09-18\n",
      "41         1030      Laptop              60000.0      4.0      Delhi   2023-01-21\n",
      "42         1018  Smartphone              15000.0      1.0  Bangalore   2021-04-16\n",
      "43         1060      Laptop              45000.0      4.0       Pune   2022-05-11\n",
      "44         1053      Tablet              45000.0      1.0    Chennai   2022-05-26\n",
      "46         1090      Laptop                  NaN      1.0     Mumbai   2022-11-07\n",
      "48         1089  Smartphone                  NaN      NaN  Bangalore   2023-10-03\n",
      "51         1066      Laptop              45000.0      NaN  Bangalore   2021-07-15\n",
      "54         1091      Laptop              30000.0      1.0    Chennai   2021-04-01\n",
      "56         1019  Smartphone              30000.0      2.0       Pune   2022-04-26\n",
      "58         1071      Laptop                  NaN      2.0  Bangalore   2021-09-28\n",
      "61         1000      Tablet              15000.0      NaN      Delhi   2022-02-25\n",
      "62         1002     Desktop              60000.0      2.0    Chennai   2023-06-05\n",
      "63         1076      Laptop              30000.0      4.0     Mumbai   2021-01-16\n",
      "65         1061  Smartphone              15000.0      NaN     Mumbai   2022-11-22\n",
      "66         1062      Laptop              30000.0      1.0    Chennai   2023-10-18\n",
      "67         1024      Tablet                  NaN      1.0    Chennai   2021-10-13\n",
      "68         1055  Smartphone              45000.0      1.0       Pune   2021-05-31\n",
      "69         1032      Laptop              15000.0      3.0  Bangalore   2021-01-16\n",
      "71         1005      Laptop              15000.0      1.0     Mumbai   2021-06-15\n",
      "73         1043      Laptop              45000.0      4.0    Chennai   2021-03-02\n",
      "75         1031      Tablet              15000.0      2.0    Chennai   2022-07-10\n",
      "78         1046      Laptop              15000.0      1.0  Bangalore   2022-10-08\n",
      "79         1020      Tablet              15000.0      2.0     Mumbai   2021-12-12\n",
      "80         1079      Laptop              45000.0      4.0    Chennai   2022-03-12\n",
      "81         1084      Tablet                  NaN      3.0       Pune   2023-05-21\n",
      "84         1098      Laptop              60000.0      4.0  Bangalore   2022-08-09\n",
      "87         1056      Tablet              30000.0      1.0      Delhi   2023-12-17\n",
      "90         1048     Desktop              45000.0      3.0      Delhi   2022-01-11\n",
      "92         1014      Tablet              60000.0      NaN      Delhi   2022-02-25\n",
      "97         1015      Tablet              45000.0      4.0      Delhi   2022-08-24\n",
      "101        1011      Tablet              30000.0      1.0    Chennai   2022-06-25\n",
      "103        1095  Smartphone              15000.0      3.0     Mumbai   2022-01-26\n",
      "107        1023      Tablet              15000.0      1.0  Bangalore   2022-08-09\n",
      "108        1027     Desktop                  NaN      1.0       Pune   2021-06-15\n",
      "115        1059     Desktop                  NaN      3.0  Bangalore   2023-07-05\n",
      "119        1040  Smartphone              15000.0      1.0     Mumbai   2023-03-07\n"
     ]
    }
   ],
   "source": [
    "print(ds.to_string())"
   ]
  },
  {
   "cell_type": "code",
   "execution_count": 10,
   "id": "75163a16-cc17-42e9-b3bc-bfb4b37af182",
   "metadata": {},
   "outputs": [
    {
     "data": {
      "text/plain": [
       "array(['Desktop', 'Smartphone', 'Tablet', 'Laptop'], dtype=object)"
      ]
     },
     "execution_count": 10,
     "metadata": {},
     "output_type": "execute_result"
    }
   ],
   "source": [
    "ds['Product'].unique()"
   ]
  },
  {
   "cell_type": "code",
   "execution_count": 11,
   "id": "0b5afe2c-6e5e-4053-8180-217c1b175e3b",
   "metadata": {},
   "outputs": [],
   "source": [
    "# Price coloumn\n",
    "#convert datatype\n",
    "ds['Price']=pd.to_numeric(ds['Price'],errors='coerce')"
   ]
  },
  {
   "cell_type": "code",
   "execution_count": 12,
   "id": "09168746-430a-4135-81e1-7a0b8c785e06",
   "metadata": {},
   "outputs": [
    {
     "name": "stdout",
     "output_type": "stream",
     "text": [
      "<class 'pandas.core.frame.DataFrame'>\n",
      "Index: 72 entries, 0 to 119\n",
      "Data columns (total 6 columns):\n",
      " #   Column        Non-Null Count  Dtype  \n",
      "---  ------        --------------  -----  \n",
      " 0   CustomerID    72 non-null     int64  \n",
      " 1   Product       72 non-null     object \n",
      " 2   Price         58 non-null     float64\n",
      " 3   Quantity      61 non-null     object \n",
      " 4   City          72 non-null     object \n",
      " 5   PurchaseDate  72 non-null     object \n",
      "dtypes: float64(1), int64(1), object(4)\n",
      "memory usage: 3.9+ KB\n",
      "None\n"
     ]
    }
   ],
   "source": [
    "print(ds.info())"
   ]
  },
  {
   "cell_type": "code",
   "execution_count": 13,
   "id": "d8c52ef9-01a1-4024-a630-d61dc513af0d",
   "metadata": {},
   "outputs": [],
   "source": [
    "ds['Price']=ds['Price'].fillna(ds['Price'].median())"
   ]
  },
  {
   "cell_type": "code",
   "execution_count": 14,
   "id": "43ddd1b4-e624-4d01-ab79-fee2b6a44066",
   "metadata": {},
   "outputs": [
    {
     "name": "stdout",
     "output_type": "stream",
     "text": [
      "     CustomerID     Product    Price Quantity       City PurchaseDate\n",
      "0          1052     Desktop  30000.0      4.0  Bangalore   2021-06-30\n",
      "1          1041     Desktop  30000.0      3.0      Delhi   2023-01-21\n",
      "2          1057  Smartphone  30000.0      2.0  Bangalore   2023-04-06\n",
      "3          1038      Tablet  45000.0      1.0    Chennai   2023-07-05\n",
      "4          1013  Smartphone  45000.0      NaN     Mumbai   2022-04-11\n",
      "5          1094      Laptop  60000.0      two     Mumbai   2022-03-12\n",
      "6          1004      Laptop  30000.0      2.0    Chennai   2022-02-25\n",
      "7          1034      Laptop  30000.0      2.0    Chennai   2022-12-22\n",
      "8          1086      Laptop  30000.0      3.0      Delhi   2022-10-23\n",
      "9          1092     Desktop  30000.0      3.0     Mumbai   2022-03-12\n",
      "10         1074      Laptop  45000.0      NaN  Bangalore   2021-08-14\n",
      "11         1017     Desktop  45000.0      NaN       Pune   2022-08-09\n",
      "12         1075     Desktop  30000.0      1.0       Pune   2021-09-28\n",
      "13         1008      Laptop  60000.0      1.0    Chennai   2021-09-13\n",
      "14         1073      Laptop  15000.0      NaN      Delhi   2021-01-01\n",
      "16         1016  Smartphone  60000.0      4.0     Mumbai   2023-09-03\n",
      "17         1006      Laptop  30000.0      3.0    Chennai   2022-07-10\n",
      "18         1045      Tablet  45000.0      1.0  Bangalore   2023-01-21\n",
      "19         1012      Tablet  15000.0      3.0    Chennai   2023-07-20\n",
      "20         1039  Smartphone  30000.0      3.0  Bangalore   2021-02-15\n",
      "23         1049  Smartphone  30000.0      2.0    Chennai   2022-02-25\n",
      "24         1026      Laptop  15000.0      4.0  Bangalore   2023-03-22\n",
      "25         1065      Tablet  30000.0      4.0  Bangalore   2021-01-31\n",
      "27         1028     Desktop  60000.0      4.0       Pune   2021-05-16\n",
      "28         1036      Tablet  60000.0      1.0      Delhi   2022-05-11\n",
      "29         1037      Tablet  30000.0      3.0      Delhi   2023-03-22\n",
      "30         1082  Smartphone  30000.0      1.0      Delhi   2022-04-11\n",
      "31         1007      Laptop  30000.0      2.0  Bangalore   2023-01-06\n",
      "32         1064      Laptop  30000.0      3.0  Bangalore   2021-04-01\n",
      "33         1085  Smartphone  30000.0      2.0       Pune   2021-04-16\n",
      "35         1070      Laptop  45000.0      NaN      Delhi   2023-04-21\n",
      "36         1088      Tablet  45000.0      4.0    Chennai   2023-09-18\n",
      "37         1044      Laptop  45000.0      NaN  Bangalore   2023-05-21\n",
      "38         1003      Tablet  15000.0      2.0      Delhi   2023-12-02\n",
      "39         1035     Desktop  45000.0      4.0       Pune   2023-03-07\n",
      "40         1069  Smartphone  60000.0      3.0       Pune   2023-09-18\n",
      "41         1030      Laptop  60000.0      4.0      Delhi   2023-01-21\n",
      "42         1018  Smartphone  15000.0      1.0  Bangalore   2021-04-16\n",
      "43         1060      Laptop  45000.0      4.0       Pune   2022-05-11\n",
      "44         1053      Tablet  45000.0      1.0    Chennai   2022-05-26\n",
      "46         1090      Laptop  30000.0      1.0     Mumbai   2022-11-07\n",
      "48         1089  Smartphone  30000.0      NaN  Bangalore   2023-10-03\n",
      "51         1066      Laptop  45000.0      NaN  Bangalore   2021-07-15\n",
      "54         1091      Laptop  30000.0      1.0    Chennai   2021-04-01\n",
      "56         1019  Smartphone  30000.0      2.0       Pune   2022-04-26\n",
      "58         1071      Laptop  30000.0      2.0  Bangalore   2021-09-28\n",
      "61         1000      Tablet  15000.0      NaN      Delhi   2022-02-25\n",
      "62         1002     Desktop  60000.0      2.0    Chennai   2023-06-05\n",
      "63         1076      Laptop  30000.0      4.0     Mumbai   2021-01-16\n",
      "65         1061  Smartphone  15000.0      NaN     Mumbai   2022-11-22\n",
      "66         1062      Laptop  30000.0      1.0    Chennai   2023-10-18\n",
      "67         1024      Tablet  30000.0      1.0    Chennai   2021-10-13\n",
      "68         1055  Smartphone  45000.0      1.0       Pune   2021-05-31\n",
      "69         1032      Laptop  15000.0      3.0  Bangalore   2021-01-16\n",
      "71         1005      Laptop  15000.0      1.0     Mumbai   2021-06-15\n",
      "73         1043      Laptop  45000.0      4.0    Chennai   2021-03-02\n",
      "75         1031      Tablet  15000.0      2.0    Chennai   2022-07-10\n",
      "78         1046      Laptop  15000.0      1.0  Bangalore   2022-10-08\n",
      "79         1020      Tablet  15000.0      2.0     Mumbai   2021-12-12\n",
      "80         1079      Laptop  45000.0      4.0    Chennai   2022-03-12\n",
      "81         1084      Tablet  30000.0      3.0       Pune   2023-05-21\n",
      "84         1098      Laptop  60000.0      4.0  Bangalore   2022-08-09\n",
      "87         1056      Tablet  30000.0      1.0      Delhi   2023-12-17\n",
      "90         1048     Desktop  45000.0      3.0      Delhi   2022-01-11\n",
      "92         1014      Tablet  60000.0      NaN      Delhi   2022-02-25\n",
      "97         1015      Tablet  45000.0      4.0      Delhi   2022-08-24\n",
      "101        1011      Tablet  30000.0      1.0    Chennai   2022-06-25\n",
      "103        1095  Smartphone  15000.0      3.0     Mumbai   2022-01-26\n",
      "107        1023      Tablet  15000.0      1.0  Bangalore   2022-08-09\n",
      "108        1027     Desktop  30000.0      1.0       Pune   2021-06-15\n",
      "115        1059     Desktop  30000.0      3.0  Bangalore   2023-07-05\n",
      "119        1040  Smartphone  15000.0      1.0     Mumbai   2023-03-07\n"
     ]
    }
   ],
   "source": [
    "print(ds.to_string())"
   ]
  },
  {
   "cell_type": "code",
   "execution_count": 15,
   "id": "8b883eed-d174-48a9-94f6-f5504b50c638",
   "metadata": {},
   "outputs": [],
   "source": [
    "# Quantity coloumn\n",
    "# convert datatypes\n",
    "ds['Quantity']=pd.to_numeric(ds['Quantity'],errors='coerce')"
   ]
  },
  {
   "cell_type": "code",
   "execution_count": 16,
   "id": "a239e4a5-c68c-44ad-8856-acf106c8782d",
   "metadata": {},
   "outputs": [
    {
     "name": "stdout",
     "output_type": "stream",
     "text": [
      "<class 'pandas.core.frame.DataFrame'>\n",
      "Index: 72 entries, 0 to 119\n",
      "Data columns (total 6 columns):\n",
      " #   Column        Non-Null Count  Dtype  \n",
      "---  ------        --------------  -----  \n",
      " 0   CustomerID    72 non-null     int64  \n",
      " 1   Product       72 non-null     object \n",
      " 2   Price         72 non-null     float64\n",
      " 3   Quantity      60 non-null     float64\n",
      " 4   City          72 non-null     object \n",
      " 5   PurchaseDate  72 non-null     object \n",
      "dtypes: float64(2), int64(1), object(3)\n",
      "memory usage: 3.9+ KB\n",
      "None\n"
     ]
    }
   ],
   "source": [
    "print(ds.info())"
   ]
  },
  {
   "cell_type": "code",
   "execution_count": 17,
   "id": "7832d1fa-fcb2-40c2-8ae0-4f14587dc19d",
   "metadata": {},
   "outputs": [],
   "source": [
    "#fill empty rows with 0\n",
    "ds['Quantity']=ds['Quantity'].fillna(0)"
   ]
  },
  {
   "cell_type": "code",
   "execution_count": 18,
   "id": "7f247461-2459-4006-8df3-9ab8d1099473",
   "metadata": {},
   "outputs": [
    {
     "name": "stdout",
     "output_type": "stream",
     "text": [
      "     CustomerID     Product    Price  Quantity       City PurchaseDate\n",
      "0          1052     Desktop  30000.0       4.0  Bangalore   2021-06-30\n",
      "1          1041     Desktop  30000.0       3.0      Delhi   2023-01-21\n",
      "2          1057  Smartphone  30000.0       2.0  Bangalore   2023-04-06\n",
      "3          1038      Tablet  45000.0       1.0    Chennai   2023-07-05\n",
      "4          1013  Smartphone  45000.0       0.0     Mumbai   2022-04-11\n",
      "5          1094      Laptop  60000.0       0.0     Mumbai   2022-03-12\n",
      "6          1004      Laptop  30000.0       2.0    Chennai   2022-02-25\n",
      "7          1034      Laptop  30000.0       2.0    Chennai   2022-12-22\n",
      "8          1086      Laptop  30000.0       3.0      Delhi   2022-10-23\n",
      "9          1092     Desktop  30000.0       3.0     Mumbai   2022-03-12\n",
      "10         1074      Laptop  45000.0       0.0  Bangalore   2021-08-14\n",
      "11         1017     Desktop  45000.0       0.0       Pune   2022-08-09\n",
      "12         1075     Desktop  30000.0       1.0       Pune   2021-09-28\n",
      "13         1008      Laptop  60000.0       1.0    Chennai   2021-09-13\n",
      "14         1073      Laptop  15000.0       0.0      Delhi   2021-01-01\n",
      "16         1016  Smartphone  60000.0       4.0     Mumbai   2023-09-03\n",
      "17         1006      Laptop  30000.0       3.0    Chennai   2022-07-10\n",
      "18         1045      Tablet  45000.0       1.0  Bangalore   2023-01-21\n",
      "19         1012      Tablet  15000.0       3.0    Chennai   2023-07-20\n",
      "20         1039  Smartphone  30000.0       3.0  Bangalore   2021-02-15\n",
      "23         1049  Smartphone  30000.0       2.0    Chennai   2022-02-25\n",
      "24         1026      Laptop  15000.0       4.0  Bangalore   2023-03-22\n",
      "25         1065      Tablet  30000.0       4.0  Bangalore   2021-01-31\n",
      "27         1028     Desktop  60000.0       4.0       Pune   2021-05-16\n",
      "28         1036      Tablet  60000.0       1.0      Delhi   2022-05-11\n",
      "29         1037      Tablet  30000.0       3.0      Delhi   2023-03-22\n",
      "30         1082  Smartphone  30000.0       1.0      Delhi   2022-04-11\n",
      "31         1007      Laptop  30000.0       2.0  Bangalore   2023-01-06\n",
      "32         1064      Laptop  30000.0       3.0  Bangalore   2021-04-01\n",
      "33         1085  Smartphone  30000.0       2.0       Pune   2021-04-16\n",
      "35         1070      Laptop  45000.0       0.0      Delhi   2023-04-21\n",
      "36         1088      Tablet  45000.0       4.0    Chennai   2023-09-18\n",
      "37         1044      Laptop  45000.0       0.0  Bangalore   2023-05-21\n",
      "38         1003      Tablet  15000.0       2.0      Delhi   2023-12-02\n",
      "39         1035     Desktop  45000.0       4.0       Pune   2023-03-07\n",
      "40         1069  Smartphone  60000.0       3.0       Pune   2023-09-18\n",
      "41         1030      Laptop  60000.0       4.0      Delhi   2023-01-21\n",
      "42         1018  Smartphone  15000.0       1.0  Bangalore   2021-04-16\n",
      "43         1060      Laptop  45000.0       4.0       Pune   2022-05-11\n",
      "44         1053      Tablet  45000.0       1.0    Chennai   2022-05-26\n",
      "46         1090      Laptop  30000.0       1.0     Mumbai   2022-11-07\n",
      "48         1089  Smartphone  30000.0       0.0  Bangalore   2023-10-03\n",
      "51         1066      Laptop  45000.0       0.0  Bangalore   2021-07-15\n",
      "54         1091      Laptop  30000.0       1.0    Chennai   2021-04-01\n",
      "56         1019  Smartphone  30000.0       2.0       Pune   2022-04-26\n",
      "58         1071      Laptop  30000.0       2.0  Bangalore   2021-09-28\n",
      "61         1000      Tablet  15000.0       0.0      Delhi   2022-02-25\n",
      "62         1002     Desktop  60000.0       2.0    Chennai   2023-06-05\n",
      "63         1076      Laptop  30000.0       4.0     Mumbai   2021-01-16\n",
      "65         1061  Smartphone  15000.0       0.0     Mumbai   2022-11-22\n",
      "66         1062      Laptop  30000.0       1.0    Chennai   2023-10-18\n",
      "67         1024      Tablet  30000.0       1.0    Chennai   2021-10-13\n",
      "68         1055  Smartphone  45000.0       1.0       Pune   2021-05-31\n",
      "69         1032      Laptop  15000.0       3.0  Bangalore   2021-01-16\n",
      "71         1005      Laptop  15000.0       1.0     Mumbai   2021-06-15\n",
      "73         1043      Laptop  45000.0       4.0    Chennai   2021-03-02\n",
      "75         1031      Tablet  15000.0       2.0    Chennai   2022-07-10\n",
      "78         1046      Laptop  15000.0       1.0  Bangalore   2022-10-08\n",
      "79         1020      Tablet  15000.0       2.0     Mumbai   2021-12-12\n",
      "80         1079      Laptop  45000.0       4.0    Chennai   2022-03-12\n",
      "81         1084      Tablet  30000.0       3.0       Pune   2023-05-21\n",
      "84         1098      Laptop  60000.0       4.0  Bangalore   2022-08-09\n",
      "87         1056      Tablet  30000.0       1.0      Delhi   2023-12-17\n",
      "90         1048     Desktop  45000.0       3.0      Delhi   2022-01-11\n",
      "92         1014      Tablet  60000.0       0.0      Delhi   2022-02-25\n",
      "97         1015      Tablet  45000.0       4.0      Delhi   2022-08-24\n",
      "101        1011      Tablet  30000.0       1.0    Chennai   2022-06-25\n",
      "103        1095  Smartphone  15000.0       3.0     Mumbai   2022-01-26\n",
      "107        1023      Tablet  15000.0       1.0  Bangalore   2022-08-09\n",
      "108        1027     Desktop  30000.0       1.0       Pune   2021-06-15\n",
      "115        1059     Desktop  30000.0       3.0  Bangalore   2023-07-05\n",
      "119        1040  Smartphone  15000.0       1.0     Mumbai   2023-03-07\n"
     ]
    }
   ],
   "source": [
    "print(ds.to_string())"
   ]
  },
  {
   "cell_type": "code",
   "execution_count": 19,
   "id": "40ff44fc-29be-488e-bf20-846aba20b3cf",
   "metadata": {},
   "outputs": [
    {
     "data": {
      "text/plain": [
       "array(['Bangalore', 'Delhi', 'Chennai', 'Mumbai', 'Pune'], dtype=object)"
      ]
     },
     "execution_count": 19,
     "metadata": {},
     "output_type": "execute_result"
    }
   ],
   "source": [
    "#city coloumn\n",
    "ds['City'].unique()"
   ]
  },
  {
   "cell_type": "code",
   "execution_count": 20,
   "id": "6b92c00f-be16-41b4-9f0e-e85ea64b7e71",
   "metadata": {},
   "outputs": [],
   "source": [
    "# PurchaseDate column\n",
    "# covert data type\n",
    "ds['PurchaseDate']=pd.to_datetime(ds['PurchaseDate'],errors='coerce')"
   ]
  },
  {
   "cell_type": "code",
   "execution_count": 21,
   "id": "b30460d0-22b4-4ec9-80ee-ef2d8b34b945",
   "metadata": {},
   "outputs": [
    {
     "name": "stdout",
     "output_type": "stream",
     "text": [
      "<class 'pandas.core.frame.DataFrame'>\n",
      "Index: 72 entries, 0 to 119\n",
      "Data columns (total 6 columns):\n",
      " #   Column        Non-Null Count  Dtype         \n",
      "---  ------        --------------  -----         \n",
      " 0   CustomerID    72 non-null     int64         \n",
      " 1   Product       72 non-null     object        \n",
      " 2   Price         72 non-null     float64       \n",
      " 3   Quantity      72 non-null     float64       \n",
      " 4   City          72 non-null     object        \n",
      " 5   PurchaseDate  72 non-null     datetime64[ns]\n",
      "dtypes: datetime64[ns](1), float64(2), int64(1), object(2)\n",
      "memory usage: 3.9+ KB\n"
     ]
    }
   ],
   "source": [
    "ds.info()"
   ]
  },
  {
   "cell_type": "code",
   "execution_count": 22,
   "id": "26e229ec-f792-4c56-917c-eccc2e01d786",
   "metadata": {},
   "outputs": [],
   "source": [
    "#to save file \n",
    "ds.to_csv(\"cleaned_data1.csv\")"
   ]
  },
  {
   "cell_type": "code",
   "execution_count": null,
   "id": "eb383fed-4fa2-4cfa-b31b-c0f5b5d7477c",
   "metadata": {},
   "outputs": [],
   "source": []
  }
 ],
 "metadata": {
  "kernelspec": {
   "display_name": "Python 3 (ipykernel)",
   "language": "python",
   "name": "python3"
  },
  "language_info": {
   "codemirror_mode": {
    "name": "ipython",
    "version": 3
   },
   "file_extension": ".py",
   "mimetype": "text/x-python",
   "name": "python",
   "nbconvert_exporter": "python",
   "pygments_lexer": "ipython3",
   "version": "3.12.7"
  }
 },
 "nbformat": 4,
 "nbformat_minor": 5
}
